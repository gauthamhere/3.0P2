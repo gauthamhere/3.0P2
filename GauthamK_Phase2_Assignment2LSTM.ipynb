{
  "nbformat": 4,
  "nbformat_minor": 0,
  "metadata": {
    "colab": {
      "name": "GauthamK_Phase2_Assignment2LSTM.ipynb",
      "version": "0.3.2",
      "provenance": [],
      "collapsed_sections": [],
      "include_colab_link": true
    },
    "kernelspec": {
      "name": "python3",
      "display_name": "Python 3"
    },
    "accelerator": "GPU"
  },
  "cells": [
    {
      "cell_type": "markdown",
      "metadata": {
        "id": "view-in-github",
        "colab_type": "text"
      },
      "source": [
        "<a href=\"https://colab.research.google.com/github/gauthamhere/3.0P2/blob/master/GauthamK_Phase2_Assignment2LSTM.ipynb\" target=\"_parent\"><img src=\"https://colab.research.google.com/assets/colab-badge.svg\" alt=\"Open In Colab\"/></a>"
      ]
    },
    {
      "cell_type": "code",
      "metadata": {
        "id": "Rt3N9fogsXaZ",
        "colab_type": "code",
        "colab": {
          "base_uri": "https://localhost:8080/",
          "height": 35
        },
        "outputId": "dc5cb603-e297-49ab-fb37-e4d15537dd10"
      },
      "source": [
        "from google.colab import drive\n",
        "from shutil import copyfile\n",
        "import keras.utils\n",
        "import keras.backend as K\n",
        "from keras.callbacks import ModelCheckpoint\n",
        "import numpy as np\n",
        "import random\n",
        "import string\n",
        "from keras.preprocessing import sequence\n",
        "from keras.layers import LSTM,Input,Dense\n",
        "from keras.models import Model"
      ],
      "execution_count": 1,
      "outputs": [
        {
          "output_type": "stream",
          "text": [
            "Using TensorFlow backend.\n"
          ],
          "name": "stderr"
        }
      ]
    },
    {
      "cell_type": "code",
      "metadata": {
        "id": "eit1xODmri28",
        "colab_type": "code",
        "colab": {
          "base_uri": "https://localhost:8080/",
          "height": 128
        },
        "outputId": "71588737-69b4-4d3a-b348-264a93567d20"
      },
      "source": [
        "drive.mount('gdrive')"
      ],
      "execution_count": 2,
      "outputs": [
        {
          "output_type": "stream",
          "text": [
            "Go to this URL in a browser: https://accounts.google.com/o/oauth2/auth?client_id=947318989803-6bn6qk8qdgf4n4g3pfee6491hc0brc4i.apps.googleusercontent.com&redirect_uri=urn%3Aietf%3Awg%3Aoauth%3A2.0%3Aoob&scope=email%20https%3A%2F%2Fwww.googleapis.com%2Fauth%2Fdocs.test%20https%3A%2F%2Fwww.googleapis.com%2Fauth%2Fdrive%20https%3A%2F%2Fwww.googleapis.com%2Fauth%2Fdrive.photos.readonly%20https%3A%2F%2Fwww.googleapis.com%2Fauth%2Fpeopleapi.readonly&response_type=code\n",
            "\n",
            "Enter your authorization code:\n",
            "··········\n",
            "Mounted at gdrive\n"
          ],
          "name": "stdout"
        }
      ]
    },
    {
      "cell_type": "code",
      "metadata": {
        "id": "pgthnWuXrmx9",
        "colab_type": "code",
        "colab": {
          "base_uri": "https://localhost:8080/",
          "height": 35
        },
        "outputId": "14cd49e4-a8c6-4024-c36c-7e9b6ddc5051"
      },
      "source": [
        "copyfile(\"gdrive/My Drive/lstm_assignment/wonderland.txt\",'wonderland.txt')"
      ],
      "execution_count": 3,
      "outputs": [
        {
          "output_type": "execute_result",
          "data": {
            "text/plain": [
              "'wonderland.txt'"
            ]
          },
          "metadata": {
            "tags": []
          },
          "execution_count": 3
        }
      ]
    },
    {
      "cell_type": "code",
      "metadata": {
        "id": "FHAMvMnrsrz7",
        "colab_type": "code",
        "colab": {}
      },
      "source": [
        "def load_characters(source, length=None, limit=None,):\n",
        "    \n",
        "    # Reading raw text from source and destination files\n",
        "    f = open(source, 'r')\n",
        "    x_data = f.read()\n",
        "    f.close()\n",
        "\n",
        "    print('raw data read')\n",
        "    \n",
        "    x_data = x_data.lower()\n",
        "    \n",
        "    #Removing punctutations\n",
        "    puncts = string.punctuation\n",
        "    x_data = str(x_data)\n",
        "    for punct in puncts:\n",
        "      if punct in x_data:\n",
        "        x_data = x_data.replace(punct, '')\n",
        "\n",
        "    if limit is not None:\n",
        "        x_data = x_data[:limit]\n",
        "\n",
        "    # Splitting raw text into array of sequences\n",
        "    if length is None:\n",
        "        x = [list(line) for line in x_data.split('\\n') if len(line) > 0]\n",
        "    else:\n",
        "        x = [list(chunk) for chunk in chunks(x_data, length)]\n",
        "\n",
        "    # Creating the vocabulary set with the most common characters (leaving room for PAD, START, UNK)\n",
        "    chars = set()\n",
        "    for line in x:\n",
        "        for char in line:\n",
        "            chars.add(char)\n",
        "\n",
        "    # Creating an array of words from the vocabulary set, we will use this array as index-to-word dictionary\n",
        "    i2c = list(chars)\n",
        "\n",
        "    # Creating the word-to-index dictionary from the array created above\n",
        "    c2i = {word:ix for ix, word in enumerate(i2c)}\n",
        "\n",
        "    # Converting each word to its index value\n",
        "    for i, sentence in enumerate(x):\n",
        "        for j, word in enumerate(sentence):\n",
        "            if word in c2i:\n",
        "                x[i][j] = c2i[word]\n",
        "            else:\n",
        "                x[i][j] = c2i['<UNK>']\n",
        "\n",
        "    return x, c2i, i2c"
      ],
      "execution_count": 0,
      "outputs": []
    },
    {
      "cell_type": "code",
      "metadata": {
        "id": "Uwu_YOYAqYVq",
        "colab_type": "code",
        "colab": {}
      },
      "source": [
        "def sample(preds, temperature=1.0):\n",
        "    \"\"\"\n",
        "    Sample an index from a probability vector\n",
        "    :param preds:\n",
        "    :param temperature:\n",
        "    :return:\n",
        "    \"\"\"\n",
        "\n",
        "    preds = np.asarray(preds).astype('float64')\n",
        "\n",
        "    if temperature == 0.0:\n",
        "        return np.argmax(preds)\n",
        "\n",
        "    preds = np.log(preds) / temperature\n",
        "\n",
        "    exp_preds = np.exp(preds)\n",
        "    preds = exp_preds / np.sum(exp_preds)\n",
        "\n",
        "    probas = np.random.multinomial(1, preds, 1)\n",
        "\n",
        "    return np.argmax(probas)\n"
      ],
      "execution_count": 0,
      "outputs": []
    },
    {
      "cell_type": "code",
      "metadata": {
        "id": "OfBio5jqCh6A",
        "colab_type": "code",
        "colab": {}
      },
      "source": [
        "def chunks(l, n):\n",
        "    \"\"\"Yield successive n-sized chunks from l.\"\"\"\n",
        "    for i in range(0, len(l), n):\n",
        "        yield l[i:i + n]"
      ],
      "execution_count": 0,
      "outputs": []
    },
    {
      "cell_type": "code",
      "metadata": {
        "id": "mk64U5Ror2Fn",
        "colab_type": "code",
        "colab": {
          "base_uri": "https://localhost:8080/",
          "height": 35
        },
        "outputId": "eb7f567b-4c54-4d1d-ba53-105ae1d08234"
      },
      "source": [
        "x, char_to_ix, ix_to_char = load_characters('wonderland.txt',length=100)"
      ],
      "execution_count": 7,
      "outputs": [
        {
          "output_type": "stream",
          "text": [
            "raw data read\n"
          ],
          "name": "stdout"
        }
      ]
    },
    {
      "cell_type": "code",
      "metadata": {
        "id": "QgUbwo-4tOTr",
        "colab_type": "code",
        "colab": {
          "base_uri": "https://localhost:8080/",
          "height": 35
        },
        "outputId": "8035cad9-f97e-4e9e-9a71-d2d1b21bfa08"
      },
      "source": [
        "x_max_len = max([len(sentence) for sentence in x])\n",
        "numchars = len(ix_to_char)\n",
        "print(numchars, ' distinct characters found')"
      ],
      "execution_count": 8,
      "outputs": [
        {
          "output_type": "stream",
          "text": [
            "28  distinct characters found\n"
          ],
          "name": "stdout"
        }
      ]
    },
    {
      "cell_type": "code",
      "metadata": {
        "id": "cRgcAyOKthob",
        "colab_type": "code",
        "colab": {}
      },
      "source": [
        "x = sequence.pad_sequences(x, x_max_len, padding='post', truncating='post')"
      ],
      "execution_count": 0,
      "outputs": []
    },
    {
      "cell_type": "code",
      "metadata": {
        "id": "yJ8OXczptiji",
        "colab_type": "code",
        "colab": {}
      },
      "source": [
        "def decode(seq):\n",
        "        return ''.join(ix_to_char[id] for id in seq)"
      ],
      "execution_count": 0,
      "outputs": []
    },
    {
      "cell_type": "code",
      "metadata": {
        "id": "mVVPiDNJtp0R",
        "colab_type": "code",
        "colab": {}
      },
      "source": [
        "n = x.shape[0]\n",
        "\n",
        "x_in  = np.concatenate([np.ones((n, 1)), x[:, :-1]], axis=1)  \n",
        "x_out = x\n",
        "assert x_in.shape == x_out.shape"
      ],
      "execution_count": 0,
      "outputs": []
    },
    {
      "cell_type": "code",
      "metadata": {
        "id": "BvwVLfYouKUo",
        "colab_type": "code",
        "colab": {}
      },
      "source": [
        "def to_categorical(batch, num_classes):\n",
        "    \n",
        "    b, l = batch.shape\n",
        "\n",
        "    out = np.zeros((b, l, num_classes))\n",
        "\n",
        "    for i in range(b):\n",
        "        seq = batch[0, :]\n",
        "        out[i, :, :] = keras.utils.to_categorical(seq, num_classes=num_classes)\n",
        "\n",
        "    return out"
      ],
      "execution_count": 0,
      "outputs": []
    },
    {
      "cell_type": "code",
      "metadata": {
        "id": "A3Y8oXx4t1WX",
        "colab_type": "code",
        "colab": {}
      },
      "source": [
        "#  convert from integer sequences to sequences of one-hot vectors\n",
        "x_in = to_categorical(x_in, numchars)\n",
        "x_out =to_categorical(x_out, numchars)  "
      ],
      "execution_count": 0,
      "outputs": []
    },
    {
      "cell_type": "code",
      "metadata": {
        "id": "HXgKQcDMw7dA",
        "colab_type": "code",
        "colab": {
          "base_uri": "https://localhost:8080/",
          "height": 255
        },
        "outputId": "d5252ae5-9c57-43a1-eaf1-0805af65340b"
      },
      "source": [
        "input = Input(shape=(None, numchars))\n",
        "h = LSTM(256,dropout =0.1, return_sequences=True)(input)\n",
        "h = LSTM(256, return_sequences=True)(h)\n",
        "out = Dense(numchars, activation='softmax')(h)\n",
        "model = Model(input, out)"
      ],
      "execution_count": 14,
      "outputs": [
        {
          "output_type": "stream",
          "text": [
            "WARNING: Logging before flag parsing goes to stderr.\n",
            "W0726 17:32:55.337434 140487774812032 deprecation_wrapper.py:119] From /usr/local/lib/python3.6/dist-packages/keras/backend/tensorflow_backend.py:74: The name tf.get_default_graph is deprecated. Please use tf.compat.v1.get_default_graph instead.\n",
            "\n",
            "W0726 17:32:55.373669 140487774812032 deprecation_wrapper.py:119] From /usr/local/lib/python3.6/dist-packages/keras/backend/tensorflow_backend.py:517: The name tf.placeholder is deprecated. Please use tf.compat.v1.placeholder instead.\n",
            "\n",
            "W0726 17:32:55.381261 140487774812032 deprecation_wrapper.py:119] From /usr/local/lib/python3.6/dist-packages/keras/backend/tensorflow_backend.py:4138: The name tf.random_uniform is deprecated. Please use tf.random.uniform instead.\n",
            "\n",
            "W0726 17:32:55.574857 140487774812032 deprecation_wrapper.py:119] From /usr/local/lib/python3.6/dist-packages/keras/backend/tensorflow_backend.py:133: The name tf.placeholder_with_default is deprecated. Please use tf.compat.v1.placeholder_with_default instead.\n",
            "\n",
            "W0726 17:32:55.587419 140487774812032 deprecation.py:506] From /usr/local/lib/python3.6/dist-packages/keras/backend/tensorflow_backend.py:3445: calling dropout (from tensorflow.python.ops.nn_ops) with keep_prob is deprecated and will be removed in a future version.\n",
            "Instructions for updating:\n",
            "Please use `rate` instead of `keep_prob`. Rate should be set to `rate = 1 - keep_prob`.\n"
          ],
          "name": "stderr"
        }
      ]
    },
    {
      "cell_type": "code",
      "metadata": {
        "id": "1sWyx1Wruyno",
        "colab_type": "code",
        "colab": {
          "base_uri": "https://localhost:8080/",
          "height": 290
        },
        "outputId": "3b640be4-3e8c-4f24-9737-af846df7af73"
      },
      "source": [
        "model.summary()"
      ],
      "execution_count": 15,
      "outputs": [
        {
          "output_type": "stream",
          "text": [
            "_________________________________________________________________\n",
            "Layer (type)                 Output Shape              Param #   \n",
            "=================================================================\n",
            "input_1 (InputLayer)         (None, None, 28)          0         \n",
            "_________________________________________________________________\n",
            "lstm_1 (LSTM)                (None, None, 256)         291840    \n",
            "_________________________________________________________________\n",
            "lstm_2 (LSTM)                (None, None, 256)         525312    \n",
            "_________________________________________________________________\n",
            "dense_1 (Dense)              (None, None, 28)          7196      \n",
            "=================================================================\n",
            "Total params: 824,348\n",
            "Trainable params: 824,348\n",
            "Non-trainable params: 0\n",
            "_________________________________________________________________\n"
          ],
          "name": "stdout"
        }
      ]
    },
    {
      "cell_type": "code",
      "metadata": {
        "id": "YRHaouUsyDO9",
        "colab_type": "code",
        "colab": {
          "base_uri": "https://localhost:8080/",
          "height": 110
        },
        "outputId": "474ffdbd-7caa-423b-f95e-9e728654ff81"
      },
      "source": [
        "model.compile(loss='categorical_crossentropy', optimizer='adam')"
      ],
      "execution_count": 16,
      "outputs": [
        {
          "output_type": "stream",
          "text": [
            "W0726 17:32:56.196208 140487774812032 deprecation_wrapper.py:119] From /usr/local/lib/python3.6/dist-packages/keras/optimizers.py:790: The name tf.train.Optimizer is deprecated. Please use tf.compat.v1.train.Optimizer instead.\n",
            "\n",
            "W0726 17:32:56.224288 140487774812032 deprecation_wrapper.py:119] From /usr/local/lib/python3.6/dist-packages/keras/backend/tensorflow_backend.py:3295: The name tf.log is deprecated. Please use tf.math.log instead.\n",
            "\n"
          ],
          "name": "stderr"
        }
      ]
    },
    {
      "cell_type": "code",
      "metadata": {
        "id": "ayFUxHtFqLnw",
        "colab_type": "code",
        "colab": {}
      },
      "source": [
        "def generate_seq(model : Model,seed,numchars,size,temperature=1.0):\n",
        "    \n",
        "    ls = seed.shape[0]\n",
        "\n",
        "    tokens = np.concatenate([seed, np.zeros(size - ls)])\n",
        "\n",
        "    # convert the integer sequence to a categorical one\n",
        "    toh = to_categorical(tokens[None, :], numchars)\n",
        "\n",
        "    for i in range(ls, size-1):\n",
        "\n",
        "        # predict next characters (for the whole sequence)\n",
        "        probs = model.predict(toh)\n",
        "\n",
        "        # Extract the i-th probability vector and sample an index from it\n",
        "        next_token = sample(probs[0, i-1, :], temperature)\n",
        "\n",
        "        tokens[i] = next_token\n",
        "\n",
        "        # update the one-hot encoding\n",
        "        toh[0, i, 0] = 0\n",
        "        toh[0, i, next_token] = 1\n",
        "\n",
        "    return [int(t) for t in tokens]"
      ],
      "execution_count": 0,
      "outputs": []
    },
    {
      "cell_type": "code",
      "metadata": {
        "id": "mlKaMWzRnIFB",
        "colab_type": "code",
        "colab": {}
      },
      "source": [
        "CHECK = 5\n",
        "gen_length = 100\n",
        "out_every = 25 #Generate output for every 5 epochs\n",
        "\n",
        "def generate(epoch):\n",
        "        if epoch % out_every == 0 and epoch > 0:\n",
        "            for i in range(CHECK):\n",
        "                b = random.randint(0, n - 1)\n",
        "\n",
        "                seed = x[b, :20]\n",
        "                seed = np.insert(seed, 0, 1)\n",
        "                gen = generate_seq(model, seed, numchars, gen_length)\n",
        "\n",
        "                print('Seed:', decode(seed), '\\n\\nGenerated text:', decode(gen[len(seed):]))\n",
        "                print()\n",
        "\n",
        "    # Train the model\n",
        "generate_stuff = keras.callbacks.LambdaCallback(on_epoch_end=lambda epoch, logs: generate(epoch))"
      ],
      "execution_count": 0,
      "outputs": []
    },
    {
      "cell_type": "code",
      "metadata": {
        "id": "SyTOroHTx4mU",
        "colab_type": "code",
        "colab": {}
      },
      "source": [
        "# define the checkpoint\n",
        "filepath=\"gdrive/My Drive/lstm_assignment/weights-improvement-{epoch:02d}-{loss:.4f}-bigger.hdf5\"\n",
        "checkpoint = ModelCheckpoint(filepath, monitor='loss', verbose=1, save_best_only=True, mode='min')\n",
        "callbacks_list = [checkpoint,generate_stuff]"
      ],
      "execution_count": 0,
      "outputs": []
    },
    {
      "cell_type": "code",
      "metadata": {
        "id": "ii6Bv8ZMymrl",
        "colab_type": "code",
        "colab": {}
      },
      "source": [
        "epochs = 100\n",
        "batch_size = 512"
      ],
      "execution_count": 0,
      "outputs": []
    },
    {
      "cell_type": "code",
      "metadata": {
        "id": "SwHM9_bXzB7W",
        "colab_type": "code",
        "colab": {
          "base_uri": "https://localhost:8080/",
          "height": 1000
        },
        "outputId": "eb5a0e6a-15c2-4dae-f13d-e6700ea4b0f1"
      },
      "source": [
        "#Training for 100 epochsa\n",
        "model.fit(x_in, x_out, epochs=epochs, batch_size=batch_size, callbacks=callbacks_list)"
      ],
      "execution_count": 21,
      "outputs": [
        {
          "output_type": "stream",
          "text": [
            "W0726 17:32:56.449955 140487774812032 deprecation.py:323] From /usr/local/lib/python3.6/dist-packages/tensorflow/python/ops/math_grad.py:1250: add_dispatch_support.<locals>.wrapper (from tensorflow.python.ops.array_ops) is deprecated and will be removed in a future version.\n",
            "Instructions for updating:\n",
            "Use tf.where in 2.0, which has the same broadcast rule as np.where\n"
          ],
          "name": "stderr"
        },
        {
          "output_type": "stream",
          "text": [
            "Epoch 1/100\n",
            "1401/1401 [==============================] - 6s 4ms/step - loss: 3.3037\n",
            "\n",
            "Epoch 00001: loss improved from inf to 3.30368, saving model to gdrive/My Drive/lstm_assignment/weights-improvement-01-3.3037-bigger.hdf5\n",
            "Epoch 2/100\n",
            "1401/1401 [==============================] - 1s 609us/step - loss: 3.0793\n",
            "\n",
            "Epoch 00002: loss improved from 3.30368 to 3.07930, saving model to gdrive/My Drive/lstm_assignment/weights-improvement-02-3.0793-bigger.hdf5\n",
            "Epoch 3/100\n",
            "1401/1401 [==============================] - 1s 620us/step - loss: 2.8803\n",
            "\n",
            "Epoch 00003: loss improved from 3.07930 to 2.88029, saving model to gdrive/My Drive/lstm_assignment/weights-improvement-03-2.8803-bigger.hdf5\n",
            "Epoch 4/100\n",
            "1401/1401 [==============================] - 1s 596us/step - loss: 2.7694\n",
            "\n",
            "Epoch 00004: loss improved from 2.88029 to 2.76940, saving model to gdrive/My Drive/lstm_assignment/weights-improvement-04-2.7694-bigger.hdf5\n",
            "Epoch 5/100\n",
            "1401/1401 [==============================] - 1s 624us/step - loss: 2.7272\n",
            "\n",
            "Epoch 00005: loss improved from 2.76940 to 2.72723, saving model to gdrive/My Drive/lstm_assignment/weights-improvement-05-2.7272-bigger.hdf5\n",
            "Epoch 6/100\n",
            "1401/1401 [==============================] - 1s 612us/step - loss: 2.7033\n",
            "\n",
            "Epoch 00006: loss improved from 2.72723 to 2.70327, saving model to gdrive/My Drive/lstm_assignment/weights-improvement-06-2.7033-bigger.hdf5\n",
            "Epoch 7/100\n",
            "1401/1401 [==============================] - 1s 599us/step - loss: 2.6883\n",
            "\n",
            "Epoch 00007: loss improved from 2.70327 to 2.68825, saving model to gdrive/My Drive/lstm_assignment/weights-improvement-07-2.6883-bigger.hdf5\n",
            "Epoch 8/100\n",
            "1401/1401 [==============================] - 1s 597us/step - loss: 2.6731\n",
            "\n",
            "Epoch 00008: loss improved from 2.68825 to 2.67308, saving model to gdrive/My Drive/lstm_assignment/weights-improvement-08-2.6731-bigger.hdf5\n",
            "Epoch 9/100\n",
            "1401/1401 [==============================] - 1s 626us/step - loss: 2.6492\n",
            "\n",
            "Epoch 00009: loss improved from 2.67308 to 2.64924, saving model to gdrive/My Drive/lstm_assignment/weights-improvement-09-2.6492-bigger.hdf5\n",
            "Epoch 10/100\n",
            "1401/1401 [==============================] - 1s 597us/step - loss: 2.6171\n",
            "\n",
            "Epoch 00010: loss improved from 2.64924 to 2.61710, saving model to gdrive/My Drive/lstm_assignment/weights-improvement-10-2.6171-bigger.hdf5\n",
            "Epoch 11/100\n",
            "1401/1401 [==============================] - 1s 679us/step - loss: 2.5613\n",
            "\n",
            "Epoch 00011: loss improved from 2.61710 to 2.56129, saving model to gdrive/My Drive/lstm_assignment/weights-improvement-11-2.5613-bigger.hdf5\n",
            "Epoch 12/100\n",
            "1401/1401 [==============================] - 1s 696us/step - loss: 2.5026\n",
            "\n",
            "Epoch 00012: loss improved from 2.56129 to 2.50257, saving model to gdrive/My Drive/lstm_assignment/weights-improvement-12-2.5026-bigger.hdf5\n",
            "Epoch 13/100\n",
            "1401/1401 [==============================] - 1s 673us/step - loss: 2.4541\n",
            "\n",
            "Epoch 00013: loss improved from 2.50257 to 2.45414, saving model to gdrive/My Drive/lstm_assignment/weights-improvement-13-2.4541-bigger.hdf5\n",
            "Epoch 14/100\n",
            "1401/1401 [==============================] - 1s 665us/step - loss: 2.3884\n",
            "\n",
            "Epoch 00014: loss improved from 2.45414 to 2.38837, saving model to gdrive/My Drive/lstm_assignment/weights-improvement-14-2.3884-bigger.hdf5\n",
            "Epoch 15/100\n",
            "1401/1401 [==============================] - 1s 623us/step - loss: 2.3311\n",
            "\n",
            "Epoch 00015: loss improved from 2.38837 to 2.33114, saving model to gdrive/My Drive/lstm_assignment/weights-improvement-15-2.3311-bigger.hdf5\n",
            "Epoch 16/100\n",
            "1401/1401 [==============================] - 1s 663us/step - loss: 2.2744\n",
            "\n",
            "Epoch 00016: loss improved from 2.33114 to 2.27439, saving model to gdrive/My Drive/lstm_assignment/weights-improvement-16-2.2744-bigger.hdf5\n",
            "Epoch 17/100\n",
            "1401/1401 [==============================] - 1s 645us/step - loss: 2.2384\n",
            "\n",
            "Epoch 00017: loss improved from 2.27439 to 2.23845, saving model to gdrive/My Drive/lstm_assignment/weights-improvement-17-2.2384-bigger.hdf5\n",
            "Epoch 18/100\n",
            "1401/1401 [==============================] - 1s 602us/step - loss: 2.1858\n",
            "\n",
            "Epoch 00018: loss improved from 2.23845 to 2.18583, saving model to gdrive/My Drive/lstm_assignment/weights-improvement-18-2.1858-bigger.hdf5\n",
            "Epoch 19/100\n",
            "1401/1401 [==============================] - 1s 625us/step - loss: 2.1305\n",
            "\n",
            "Epoch 00019: loss improved from 2.18583 to 2.13052, saving model to gdrive/My Drive/lstm_assignment/weights-improvement-19-2.1305-bigger.hdf5\n",
            "Epoch 20/100\n",
            "1401/1401 [==============================] - 1s 622us/step - loss: 2.0617\n",
            "\n",
            "Epoch 00020: loss improved from 2.13052 to 2.06174, saving model to gdrive/My Drive/lstm_assignment/weights-improvement-20-2.0617-bigger.hdf5\n",
            "Epoch 21/100\n",
            "1401/1401 [==============================] - 1s 652us/step - loss: 1.9975\n",
            "\n",
            "Epoch 00021: loss improved from 2.06174 to 1.99746, saving model to gdrive/My Drive/lstm_assignment/weights-improvement-21-1.9975-bigger.hdf5\n",
            "Epoch 22/100\n",
            "1401/1401 [==============================] - 1s 614us/step - loss: 1.9331\n",
            "\n",
            "Epoch 00022: loss improved from 1.99746 to 1.93314, saving model to gdrive/My Drive/lstm_assignment/weights-improvement-22-1.9331-bigger.hdf5\n",
            "Epoch 23/100\n",
            "1401/1401 [==============================] - 1s 617us/step - loss: 1.8823\n",
            "\n",
            "Epoch 00023: loss improved from 1.93314 to 1.88229, saving model to gdrive/My Drive/lstm_assignment/weights-improvement-23-1.8823-bigger.hdf5\n",
            "Epoch 24/100\n",
            "1401/1401 [==============================] - 1s 645us/step - loss: 1.8327\n",
            "\n",
            "Epoch 00024: loss improved from 1.88229 to 1.83274, saving model to gdrive/My Drive/lstm_assignment/weights-improvement-24-1.8327-bigger.hdf5\n",
            "Epoch 25/100\n",
            "1401/1401 [==============================] - 1s 599us/step - loss: 1.7621\n",
            "\n",
            "Epoch 00025: loss improved from 1.83274 to 1.76212, saving model to gdrive/My Drive/lstm_assignment/weights-improvement-25-1.7621-bigger.hdf5\n",
            "Epoch 26/100\n",
            "1401/1401 [==============================] - 1s 625us/step - loss: 1.6939\n",
            "\n",
            "Epoch 00026: loss improved from 1.76212 to 1.69386, saving model to gdrive/My Drive/lstm_assignment/weights-improvement-26-1.6939-bigger.hdf5\n",
            "Seed: nd on the\n",
            "bankthe bir \n",
            "\n",
            "Generated text: nng t    et v reeyoisdfsf sriin gggy  eteesbssestesorsoer n a eaaao n   hfnigna\n",
            "\n",
            "Seed: nr questionshow am i  \n",
            "\n",
            "Generated text: iiniinoot t eever irerdii  s ig s tbi gy  iseie \n",
            "rs\n",
            "oi hh  a bak   aofooaaggfna\n",
            "\n",
            "Seed: nwhite rabbit read\n",
            "\n",
            "  \n",
            "\n",
            "Generated text: iigigo o   e e retdrr  if ttttnsbieo he ysreh shneu b\n",
            "baa n an nfo dagv hnntnta\n",
            "\n",
            "Seed: n\n",
            "she was not quite s \n",
            "\n",
            "Generated text: nngi  gtgetvvtrereiigir oo iitghfigg h ehshese\n",
            "rnsnto th knaadnadbofvnvgnh ngga\n",
            "\n",
            "Seed: nknow what it was all \n",
            "\n",
            "Generated text: gin  e teerv vr yi  yfoii igogbn  ieys esssiesr ttteth o bek adaddddo nahvniita\n",
            "\n",
            "Epoch 27/100\n",
            "1401/1401 [==============================] - 1s 597us/step - loss: 1.6781\n",
            "\n",
            "Epoch 00027: loss improved from 1.69386 to 1.67815, saving model to gdrive/My Drive/lstm_assignment/weights-improvement-27-1.6781-bigger.hdf5\n",
            "Epoch 28/100\n",
            "1401/1401 [==============================] - 1s 601us/step - loss: 1.6268\n",
            "\n",
            "Epoch 00028: loss improved from 1.67815 to 1.62683, saving model to gdrive/My Drive/lstm_assignment/weights-improvement-28-1.6268-bigger.hdf5\n",
            "Epoch 29/100\n",
            "1401/1401 [==============================] - 1s 608us/step - loss: 1.5778\n",
            "\n",
            "Epoch 00029: loss improved from 1.62683 to 1.57782, saving model to gdrive/My Drive/lstm_assignment/weights-improvement-29-1.5778-bigger.hdf5\n",
            "Epoch 30/100\n",
            "1401/1401 [==============================] - 1s 594us/step - loss: 1.5251\n",
            "\n",
            "Epoch 00030: loss improved from 1.57782 to 1.52514, saving model to gdrive/My Drive/lstm_assignment/weights-improvement-30-1.5251-bigger.hdf5\n",
            "Epoch 31/100\n",
            "1401/1401 [==============================] - 1s 596us/step - loss: 1.4548\n",
            "\n",
            "Epoch 00031: loss improved from 1.52514 to 1.45481, saving model to gdrive/My Drive/lstm_assignment/weights-improvement-31-1.4548-bigger.hdf5\n",
            "Epoch 32/100\n",
            "1401/1401 [==============================] - 1s 621us/step - loss: 1.4157\n",
            "\n",
            "Epoch 00032: loss improved from 1.45481 to 1.41568, saving model to gdrive/My Drive/lstm_assignment/weights-improvement-32-1.4157-bigger.hdf5\n",
            "Epoch 33/100\n",
            "1401/1401 [==============================] - 1s 603us/step - loss: 1.3683\n",
            "\n",
            "Epoch 00033: loss improved from 1.41568 to 1.36828, saving model to gdrive/My Drive/lstm_assignment/weights-improvement-33-1.3683-bigger.hdf5\n",
            "Epoch 34/100\n",
            "1401/1401 [==============================] - 1s 599us/step - loss: 1.2965\n",
            "\n",
            "Epoch 00034: loss improved from 1.36828 to 1.29645, saving model to gdrive/My Drive/lstm_assignment/weights-improvement-34-1.2965-bigger.hdf5\n",
            "Epoch 35/100\n",
            "1401/1401 [==============================] - 1s 602us/step - loss: 1.2839\n",
            "\n",
            "Epoch 00035: loss improved from 1.29645 to 1.28394, saving model to gdrive/My Drive/lstm_assignment/weights-improvement-35-1.2839-bigger.hdf5\n",
            "Epoch 36/100\n",
            "1401/1401 [==============================] - 1s 631us/step - loss: 1.4156\n",
            "\n",
            "Epoch 00036: loss did not improve from 1.28394\n",
            "Epoch 37/100\n",
            "1401/1401 [==============================] - 1s 609us/step - loss: 1.3146\n",
            "\n",
            "Epoch 00037: loss did not improve from 1.28394\n",
            "Epoch 38/100\n",
            "1401/1401 [==============================] - 1s 616us/step - loss: 1.2164\n",
            "\n",
            "Epoch 00038: loss improved from 1.28394 to 1.21641, saving model to gdrive/My Drive/lstm_assignment/weights-improvement-38-1.2164-bigger.hdf5\n",
            "Epoch 39/100\n",
            "1401/1401 [==============================] - 1s 660us/step - loss: 1.1694\n",
            "\n",
            "Epoch 00039: loss improved from 1.21641 to 1.16940, saving model to gdrive/My Drive/lstm_assignment/weights-improvement-39-1.1694-bigger.hdf5\n",
            "Epoch 40/100\n",
            "1401/1401 [==============================] - 1s 616us/step - loss: 1.1247\n",
            "\n",
            "Epoch 00040: loss improved from 1.16940 to 1.12472, saving model to gdrive/My Drive/lstm_assignment/weights-improvement-40-1.1247-bigger.hdf5\n",
            "Epoch 41/100\n",
            "1401/1401 [==============================] - 1s 597us/step - loss: 1.0822\n",
            "\n",
            "Epoch 00041: loss improved from 1.12472 to 1.08220, saving model to gdrive/My Drive/lstm_assignment/weights-improvement-41-1.0822-bigger.hdf5\n",
            "Epoch 42/100\n",
            "1401/1401 [==============================] - 1s 652us/step - loss: 1.0478\n",
            "\n",
            "Epoch 00042: loss improved from 1.08220 to 1.04780, saving model to gdrive/My Drive/lstm_assignment/weights-improvement-42-1.0478-bigger.hdf5\n",
            "Epoch 43/100\n",
            "1401/1401 [==============================] - 1s 597us/step - loss: 1.0049\n",
            "\n",
            "Epoch 00043: loss improved from 1.04780 to 1.00493, saving model to gdrive/My Drive/lstm_assignment/weights-improvement-43-1.0049-bigger.hdf5\n",
            "Epoch 44/100\n",
            "1401/1401 [==============================] - 1s 645us/step - loss: 0.9745\n",
            "\n",
            "Epoch 00044: loss improved from 1.00493 to 0.97448, saving model to gdrive/My Drive/lstm_assignment/weights-improvement-44-0.9745-bigger.hdf5\n",
            "Epoch 45/100\n",
            "1401/1401 [==============================] - 1s 631us/step - loss: 1.1346\n",
            "\n",
            "Epoch 00045: loss did not improve from 0.97448\n",
            "Epoch 46/100\n",
            "1401/1401 [==============================] - 1s 654us/step - loss: 1.0274\n",
            "\n",
            "Epoch 00046: loss did not improve from 0.97448\n",
            "Epoch 47/100\n",
            "1401/1401 [==============================] - 1s 600us/step - loss: 0.9831\n",
            "\n",
            "Epoch 00047: loss did not improve from 0.97448\n",
            "Epoch 48/100\n",
            "1401/1401 [==============================] - 1s 635us/step - loss: 0.9439\n",
            "\n",
            "Epoch 00048: loss improved from 0.97448 to 0.94393, saving model to gdrive/My Drive/lstm_assignment/weights-improvement-48-0.9439-bigger.hdf5\n",
            "Epoch 49/100\n",
            "1401/1401 [==============================] - 1s 648us/step - loss: 0.9129\n",
            "\n",
            "Epoch 00049: loss improved from 0.94393 to 0.91291, saving model to gdrive/My Drive/lstm_assignment/weights-improvement-49-0.9129-bigger.hdf5\n",
            "Epoch 50/100\n",
            "1401/1401 [==============================] - 1s 597us/step - loss: 0.8690\n",
            "\n",
            "Epoch 00050: loss improved from 0.91291 to 0.86903, saving model to gdrive/My Drive/lstm_assignment/weights-improvement-50-0.8690-bigger.hdf5\n",
            "Epoch 51/100\n",
            "1401/1401 [==============================] - 1s 596us/step - loss: 0.8368\n",
            "\n",
            "Epoch 00051: loss improved from 0.86903 to 0.83684, saving model to gdrive/My Drive/lstm_assignment/weights-improvement-51-0.8368-bigger.hdf5\n",
            "Seed: nn digging in\n",
            "the san \n",
            "\n",
            "Generated text:    e    eee e eie e n b b nn aa  n o a iann  nthin  tttt   rrt  i r    iiitinna\n",
            "\n",
            "Seed: nwitness said the kin \n",
            "\n",
            "Generated text: nn ttooete e ryttteee  of titin byy  errsiitn\n",
            "ro t e  ba knaad   o avgngoothtia\n",
            "\n",
            "Seed: nbut i dont want to g \n",
            "\n",
            "Generated text: nnng o  e  terrrteeed    iittng yy  e r sste\n",
            "ernottbeb  aaaanndof avainnohohtia\n",
            "\n",
            "Seed: nt the otherbill fetc \n",
            "\n",
            "Generated text: nnnnnotootetevveeyytirdd o fiittgnnb  hhersisite\n",
            "ooothh bkkn nn af fhvving nnta\n",
            "\n",
            "Seed: nlizard as she spoke  \n",
            "\n",
            "Generated text: ngntooogee verytt rrdo f sittign y  hhrssiite\n",
            "\n",
            "orohhe a naan d  fh ving  noinna\n",
            "\n",
            "Epoch 52/100\n",
            "1401/1401 [==============================] - 1s 588us/step - loss: 0.8016\n",
            "\n",
            "Epoch 00052: loss improved from 0.83684 to 0.80160, saving model to gdrive/My Drive/lstm_assignment/weights-improvement-52-0.8016-bigger.hdf5\n",
            "Epoch 53/100\n",
            "1401/1401 [==============================] - 1s 588us/step - loss: 0.7714\n",
            "\n",
            "Epoch 00053: loss improved from 0.80160 to 0.77139, saving model to gdrive/My Drive/lstm_assignment/weights-improvement-53-0.7714-bigger.hdf5\n",
            "Epoch 54/100\n",
            "1401/1401 [==============================] - 1s 593us/step - loss: 0.7485\n",
            "\n",
            "Epoch 00054: loss improved from 0.77139 to 0.74851, saving model to gdrive/My Drive/lstm_assignment/weights-improvement-54-0.7485-bigger.hdf5\n",
            "Epoch 55/100\n",
            "1401/1401 [==============================] - 1s 590us/step - loss: 0.7231\n",
            "\n",
            "Epoch 00055: loss improved from 0.74851 to 0.72314, saving model to gdrive/My Drive/lstm_assignment/weights-improvement-55-0.7231-bigger.hdf5\n",
            "Epoch 56/100\n",
            "1401/1401 [==============================] - 1s 598us/step - loss: 0.6946\n",
            "\n",
            "Epoch 00056: loss improved from 0.72314 to 0.69465, saving model to gdrive/My Drive/lstm_assignment/weights-improvement-56-0.6946-bigger.hdf5\n",
            "Epoch 57/100\n",
            "1401/1401 [==============================] - 1s 596us/step - loss: 0.6730\n",
            "\n",
            "Epoch 00057: loss improved from 0.69465 to 0.67298, saving model to gdrive/My Drive/lstm_assignment/weights-improvement-57-0.6730-bigger.hdf5\n",
            "Epoch 58/100\n",
            "1401/1401 [==============================] - 1s 599us/step - loss: 0.6507\n",
            "\n",
            "Epoch 00058: loss improved from 0.67298 to 0.65075, saving model to gdrive/My Drive/lstm_assignment/weights-improvement-58-0.6507-bigger.hdf5\n",
            "Epoch 59/100\n",
            "1401/1401 [==============================] - 1s 592us/step - loss: 0.6320\n",
            "\n",
            "Epoch 00059: loss improved from 0.65075 to 0.63196, saving model to gdrive/My Drive/lstm_assignment/weights-improvement-59-0.6320-bigger.hdf5\n",
            "Epoch 60/100\n",
            "1401/1401 [==============================] - 1s 608us/step - loss: 0.6293\n",
            "\n",
            "Epoch 00060: loss improved from 0.63196 to 0.62927, saving model to gdrive/My Drive/lstm_assignment/weights-improvement-60-0.6293-bigger.hdf5\n",
            "Epoch 61/100\n",
            "1401/1401 [==============================] - 1s 602us/step - loss: 0.8894\n",
            "\n",
            "Epoch 00061: loss did not improve from 0.62927\n",
            "Epoch 62/100\n",
            "1401/1401 [==============================] - 1s 627us/step - loss: 0.6707\n",
            "\n",
            "Epoch 00062: loss did not improve from 0.62927\n",
            "Epoch 63/100\n",
            "1401/1401 [==============================] - 1s 594us/step - loss: 0.6396\n",
            "\n",
            "Epoch 00063: loss did not improve from 0.62927\n",
            "Epoch 64/100\n",
            "1401/1401 [==============================] - 1s 644us/step - loss: 0.6043\n",
            "\n",
            "Epoch 00064: loss improved from 0.62927 to 0.60426, saving model to gdrive/My Drive/lstm_assignment/weights-improvement-64-0.6043-bigger.hdf5\n",
            "Epoch 65/100\n",
            "1401/1401 [==============================] - 1s 632us/step - loss: 0.5726\n",
            "\n",
            "Epoch 00065: loss improved from 0.60426 to 0.57261, saving model to gdrive/My Drive/lstm_assignment/weights-improvement-65-0.5726-bigger.hdf5\n",
            "Epoch 66/100\n",
            "1401/1401 [==============================] - 1s 592us/step - loss: 0.5494\n",
            "\n",
            "Epoch 00066: loss improved from 0.57261 to 0.54942, saving model to gdrive/My Drive/lstm_assignment/weights-improvement-66-0.5494-bigger.hdf5\n",
            "Epoch 67/100\n",
            "1401/1401 [==============================] - 1s 599us/step - loss: 0.5280\n",
            "\n",
            "Epoch 00067: loss improved from 0.54942 to 0.52803, saving model to gdrive/My Drive/lstm_assignment/weights-improvement-67-0.5280-bigger.hdf5\n",
            "Epoch 68/100\n",
            "1401/1401 [==============================] - 1s 591us/step - loss: 0.5048\n",
            "\n",
            "Epoch 00068: loss improved from 0.52803 to 0.50481, saving model to gdrive/My Drive/lstm_assignment/weights-improvement-68-0.5048-bigger.hdf5\n",
            "Epoch 69/100\n",
            "1401/1401 [==============================] - 1s 630us/step - loss: 0.4822\n",
            "\n",
            "Epoch 00069: loss improved from 0.50481 to 0.48222, saving model to gdrive/My Drive/lstm_assignment/weights-improvement-69-0.4822-bigger.hdf5\n",
            "Epoch 70/100\n",
            "1401/1401 [==============================] - 1s 630us/step - loss: 0.4631\n",
            "\n",
            "Epoch 00070: loss improved from 0.48222 to 0.46307, saving model to gdrive/My Drive/lstm_assignment/weights-improvement-70-0.4631-bigger.hdf5\n",
            "Epoch 71/100\n",
            "1401/1401 [==============================] - 1s 593us/step - loss: 0.4494\n",
            "\n",
            "Epoch 00071: loss improved from 0.46307 to 0.44941, saving model to gdrive/My Drive/lstm_assignment/weights-improvement-71-0.4494-bigger.hdf5\n",
            "Epoch 72/100\n",
            "1401/1401 [==============================] - 1s 658us/step - loss: 0.4283\n",
            "\n",
            "Epoch 00072: loss improved from 0.44941 to 0.42829, saving model to gdrive/My Drive/lstm_assignment/weights-improvement-72-0.4283-bigger.hdf5\n",
            "Epoch 73/100\n",
            "1401/1401 [==============================] - 1s 651us/step - loss: 0.4136\n",
            "\n",
            "Epoch 00073: loss improved from 0.42829 to 0.41356, saving model to gdrive/My Drive/lstm_assignment/weights-improvement-73-0.4136-bigger.hdf5\n",
            "Epoch 74/100\n",
            "1401/1401 [==============================] - 1s 618us/step - loss: 0.3973\n",
            "\n",
            "Epoch 00074: loss improved from 0.41356 to 0.39727, saving model to gdrive/My Drive/lstm_assignment/weights-improvement-74-0.3973-bigger.hdf5\n",
            "Epoch 75/100\n",
            "1401/1401 [==============================] - 1s 597us/step - loss: 0.3812\n",
            "\n",
            "Epoch 00075: loss improved from 0.39727 to 0.38124, saving model to gdrive/My Drive/lstm_assignment/weights-improvement-75-0.3812-bigger.hdf5\n",
            "Epoch 76/100\n",
            "1401/1401 [==============================] - 1s 632us/step - loss: 0.3679\n",
            "\n",
            "Epoch 00076: loss improved from 0.38124 to 0.36786, saving model to gdrive/My Drive/lstm_assignment/weights-improvement-76-0.3679-bigger.hdf5\n",
            "Seed: nd quite faint in the \n",
            "\n",
            "Generated text:  oo ge rer ytired   sstttng bbyheh  sster\n",
            "\n",
            "o  he bann addoofhhavng  ooting  tta\n",
            "\n",
            "Seed: nuch a dear quiet thi \n",
            "\n",
            "Generated text: ng t  et vrryytiard  f sitting b   er iiseer\n",
            "on  hehbabk nnnd of hvvingnnonnnta\n",
            "\n",
            "Seed: nn to nobody which is \n",
            "\n",
            "Generated text: nng to get very  iird oossitting b  her sisteo\n",
            "on thhebbkk  ddof havanngnothhta\n",
            "\n",
            "Seed: np\n",
            "\n",
            "  after that cont \n",
            "\n",
            "Generated text: iig t  etevvery tirr  of iittingb yhher iiserr\n",
            "onthee bank  ndoof avainggotthia\n",
            "\n",
            "Seed: nf a well\n",
            "\n",
            "  what did \n",
            "\n",
            "Generated text: g oo ge tvvryytired oo sittiin  y hee sister\n",
            "on tee bank an  of hvaing nothinga\n",
            "\n",
            "Epoch 77/100\n",
            "1401/1401 [==============================] - 1s 598us/step - loss: 0.3553\n",
            "\n",
            "Epoch 00077: loss improved from 0.36786 to 0.35530, saving model to gdrive/My Drive/lstm_assignment/weights-improvement-77-0.3553-bigger.hdf5\n",
            "Epoch 78/100\n",
            "1401/1401 [==============================] - 1s 597us/step - loss: 0.3409\n",
            "\n",
            "Epoch 00078: loss improved from 0.35530 to 0.34089, saving model to gdrive/My Drive/lstm_assignment/weights-improvement-78-0.3409-bigger.hdf5\n",
            "Epoch 79/100\n",
            "1401/1401 [==============================] - 1s 596us/step - loss: 0.3284\n",
            "\n",
            "Epoch 00079: loss improved from 0.34089 to 0.32837, saving model to gdrive/My Drive/lstm_assignment/weights-improvement-79-0.3284-bigger.hdf5\n",
            "Epoch 80/100\n",
            "1401/1401 [==============================] - 1s 608us/step - loss: 0.3148\n",
            "\n",
            "Epoch 00080: loss improved from 0.32837 to 0.31483, saving model to gdrive/My Drive/lstm_assignment/weights-improvement-80-0.3148-bigger.hdf5\n",
            "Epoch 81/100\n",
            "1401/1401 [==============================] - 1s 604us/step - loss: 0.3029\n",
            "\n",
            "Epoch 00081: loss improved from 0.31483 to 0.30287, saving model to gdrive/My Drive/lstm_assignment/weights-improvement-81-0.3029-bigger.hdf5\n",
            "Epoch 82/100\n",
            "1401/1401 [==============================] - 1s 603us/step - loss: 0.2930\n",
            "\n",
            "Epoch 00082: loss improved from 0.30287 to 0.29301, saving model to gdrive/My Drive/lstm_assignment/weights-improvement-82-0.2930-bigger.hdf5\n",
            "Epoch 83/100\n",
            "1401/1401 [==============================] - 1s 615us/step - loss: 0.2814\n",
            "\n",
            "Epoch 00083: loss improved from 0.29301 to 0.28139, saving model to gdrive/My Drive/lstm_assignment/weights-improvement-83-0.2814-bigger.hdf5\n",
            "Epoch 84/100\n",
            "1401/1401 [==============================] - 1s 603us/step - loss: 0.2709\n",
            "\n",
            "Epoch 00084: loss improved from 0.28139 to 0.27091, saving model to gdrive/My Drive/lstm_assignment/weights-improvement-84-0.2709-bigger.hdf5\n",
            "Epoch 85/100\n",
            "1401/1401 [==============================] - 1s 596us/step - loss: 0.2621\n",
            "\n",
            "Epoch 00085: loss improved from 0.27091 to 0.26207, saving model to gdrive/My Drive/lstm_assignment/weights-improvement-85-0.2621-bigger.hdf5\n",
            "Epoch 86/100\n",
            "1401/1401 [==============================] - 1s 602us/step - loss: 0.2527\n",
            "\n",
            "Epoch 00086: loss improved from 0.26207 to 0.25272, saving model to gdrive/My Drive/lstm_assignment/weights-improvement-86-0.2527-bigger.hdf5\n",
            "Epoch 87/100\n",
            "1401/1401 [==============================] - 1s 598us/step - loss: 0.2411\n",
            "\n",
            "Epoch 00087: loss improved from 0.25272 to 0.24114, saving model to gdrive/My Drive/lstm_assignment/weights-improvement-87-0.2411-bigger.hdf5\n",
            "Epoch 88/100\n",
            "1401/1401 [==============================] - 1s 605us/step - loss: 0.2322\n",
            "\n",
            "Epoch 00088: loss improved from 0.24114 to 0.23222, saving model to gdrive/My Drive/lstm_assignment/weights-improvement-88-0.2322-bigger.hdf5\n",
            "Epoch 89/100\n",
            "1401/1401 [==============================] - 1s 702us/step - loss: 0.2224\n",
            "\n",
            "Epoch 00089: loss improved from 0.23222 to 0.22243, saving model to gdrive/My Drive/lstm_assignment/weights-improvement-89-0.2224-bigger.hdf5\n",
            "Epoch 90/100\n",
            "1401/1401 [==============================] - 1s 618us/step - loss: 0.2145\n",
            "\n",
            "Epoch 00090: loss improved from 0.22243 to 0.21450, saving model to gdrive/My Drive/lstm_assignment/weights-improvement-90-0.2145-bigger.hdf5\n",
            "Epoch 91/100\n",
            "1401/1401 [==============================] - 1s 624us/step - loss: 0.2049\n",
            "\n",
            "Epoch 00091: loss improved from 0.21450 to 0.20492, saving model to gdrive/My Drive/lstm_assignment/weights-improvement-91-0.2049-bigger.hdf5\n",
            "Epoch 92/100\n",
            "1401/1401 [==============================] - 1s 641us/step - loss: 0.1994\n",
            "\n",
            "Epoch 00092: loss improved from 0.20492 to 0.19945, saving model to gdrive/My Drive/lstm_assignment/weights-improvement-92-0.1994-bigger.hdf5\n",
            "Epoch 93/100\n",
            "1401/1401 [==============================] - 1s 609us/step - loss: 0.1973\n",
            "\n",
            "Epoch 00093: loss improved from 0.19945 to 0.19726, saving model to gdrive/My Drive/lstm_assignment/weights-improvement-93-0.1973-bigger.hdf5\n",
            "Epoch 94/100\n",
            "1401/1401 [==============================] - 1s 623us/step - loss: 0.8709\n",
            "\n",
            "Epoch 00094: loss did not improve from 0.19726\n",
            "Epoch 95/100\n",
            "1401/1401 [==============================] - 1s 650us/step - loss: 1.7383\n",
            "\n",
            "Epoch 00095: loss did not improve from 0.19726\n",
            "Epoch 96/100\n",
            "1401/1401 [==============================] - 1s 604us/step - loss: 1.2398\n",
            "\n",
            "Epoch 00096: loss did not improve from 0.19726\n",
            "Epoch 97/100\n",
            "1401/1401 [==============================] - 1s 631us/step - loss: 0.9167\n",
            "\n",
            "Epoch 00097: loss did not improve from 0.19726\n",
            "Epoch 98/100\n",
            "1401/1401 [==============================] - 1s 642us/step - loss: 0.7121\n",
            "\n",
            "Epoch 00098: loss did not improve from 0.19726\n",
            "Epoch 99/100\n",
            "1401/1401 [==============================] - 1s 661us/step - loss: 0.6141\n",
            "\n",
            "Epoch 00099: loss did not improve from 0.19726\n",
            "Epoch 100/100\n",
            "1401/1401 [==============================] - 1s 605us/step - loss: 0.5186\n",
            "\n",
            "Epoch 00100: loss did not improve from 0.19726\n"
          ],
          "name": "stdout"
        },
        {
          "output_type": "execute_result",
          "data": {
            "text/plain": [
              "<keras.callbacks.History at 0x7fc59103c978>"
            ]
          },
          "metadata": {
            "tags": []
          },
          "execution_count": 21
        }
      ]
    },
    {
      "cell_type": "code",
      "metadata": {
        "id": "Z5Nj9fpjWyZl",
        "colab_type": "code",
        "colab": {}
      },
      "source": [
        "model.load_weights(\"gdrive/My Drive/lstm_assignment/weights-improvement-93-0.1973-bigger.hdf5\")"
      ],
      "execution_count": 0,
      "outputs": []
    },
    {
      "cell_type": "code",
      "metadata": {
        "id": "p4fQ9U_JDWXp",
        "colab_type": "code",
        "colab": {
          "base_uri": "https://localhost:8080/",
          "height": 217
        },
        "outputId": "8cda2e07-a797-4162-f9c5-313c7e556765"
      },
      "source": [
        "gen_length=500  #Predicting 500 characters\n",
        "\n",
        "b = random.randint(0, n - 1)\n",
        "seed = x[b, :40]\n",
        "seed = np.insert(seed, 0, 1)\n",
        "  \n",
        "gen = generate_seq(model,seed, numchars, gen_length)\n",
        "\n",
        "print('Seed:', decode(seed), '\\n\\nGenerated text:', decode(gen[len(seed):]))"
      ],
      "execution_count": 25,
      "outputs": [
        {
          "output_type": "stream",
          "text": [
            "Seed: ned her arms round it as far as they\n",
            "woul \n",
            "\n",
            "Generated text: ff sttting b heer sstter\n",
            "o  hhe bank an oof havvng nnthing ttt t veer  tiiedoo  iitting by her sister\n",
            "on h e bank aandoo  hvving nothing tttet veeryttieed  f sitting  y her iister\n",
            "nn th  bann andnoo  aviiin nnhhing tttg  veveyttired  f sittinn bb her sisstr\n",
            "\n",
            "onthe  bank add  f having nothing ttttt vrey  iire  o ssitiing yy her sister\n",
            "on the aann and of having nnthig  ttt t very tiired o  sitting by her ssster\n",
            "on the bank nnn of havinn nothiig tttt tvre ya\n"
          ],
          "name": "stdout"
        }
      ]
    },
    {
      "cell_type": "code",
      "metadata": {
        "id": "s0J9mkJ2D0lx",
        "colab_type": "code",
        "colab": {}
      },
      "source": [
        ""
      ],
      "execution_count": 0,
      "outputs": []
    }
  ]
}